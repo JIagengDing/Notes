{
 "cells": [
  {
   "cell_type": "markdown",
   "metadata": {},
   "source": [
    "author：@JG Ding\n",
    "\n",
    "## 参考文档\n",
    "\n",
    "[时刻更新笔记]( https://github.com/JIagengDing/Julia/blob/master/JuliaNotes.ipynb )\n",
    "\n",
    "[文档]( https://docs.julialang.org/ )\n",
    "\n",
    "[中文文档]( https://docs.juliacn.com )\n",
    "\n",
    "[pkg镜像服务]( https://discourse.juliacn.com/t/topic/2969 )\n"
   ]
  },
  {
   "cell_type": "markdown",
   "metadata": {},
   "source": [
    "\n",
    "# 一、简介\n",
    "\n",
    "一群拥有各种语言丰富编程经验的MATLAB高级用户，对现有的科学计算编程工具感到不满——这些软件对自己专长的领域表现得非常棒，但在其它领域却非常糟糕。\n",
    "\n",
    "他们想要的是一个**开源**的软件:\n",
    "\n",
    "* 它要像C语言一般***快速***而又拥有如同Ruby的***动态性***；\n",
    "\n",
    "* 要具有Lisp般真正的同像性（Homoiconicity) 而又有Matlab般***熟悉的数学记号***；\n",
    "\n",
    "* 要像Python般***易用***、像R般在***统计分析***上得心应手；\n",
    "\n",
    "* 像MATLAB般具有强大的***线性代数运算能力***、像shell般胶水语言的能力;\n",
    "\n",
    "* 还有，它应该是交互式的，同时又是编译型的……\n",
    "\n",
    "    \n",
    "## Julia 的优点：\n",
    "\n",
    "* 采用 MIT 许可证：免费又开源\n",
    "* 核心语言很小：标准库是用 Julia 自身写的，包括整数运算这样的基础运算\n",
    "* 丰富的基础类型：既可用于定义和描述对象，也可用于做可选的类型标注\n",
    "* 支持Unicode, 包括但不限于UTF-8\n",
    "* 接近 C 语言的性能\n",
    "\n",
    "\n",
    "![运行速度]( https://julialang.org/assets/benchmarks/benchmarks.svg )\n"
   ]
  },
  {
   "cell_type": "code",
   "execution_count": 60,
   "metadata": {},
   "outputs": [],
   "source": [
    "#import Pkg\n",
    "#Pkg.add(\"Plots\")\n",
    "#pkg.add(\"SymPy\")\n",
    "#Pkg.add(\"Roots\")\n",
    "#Pkg.add(\"ForwardDiff\")\n",
    "#Pkg.add(\"ImplicitEquations\")"
   ]
  },
  {
   "cell_type": "markdown",
   "metadata": {},
   "source": [
    "# 二、变量\n",
    "\n",
    "## 实数和字符串"
   ]
  },
  {
   "cell_type": "code",
   "execution_count": 47,
   "metadata": {},
   "outputs": [
    {
     "name": "stdout",
     "output_type": "stream",
     "text": [
      "0\n",
      "Int64\n"
     ]
    }
   ],
   "source": [
    "a = 0\n",
    "println(a)\n",
    "\n",
    "println(typeof(a))"
   ]
  },
  {
   "cell_type": "code",
   "execution_count": 48,
   "metadata": {},
   "outputs": [
    {
     "name": "stdout",
     "output_type": "stream",
     "text": [
      "Str\n",
      "String\n"
     ]
    }
   ],
   "source": [
    "b = \"Str\"\n",
    "println(b)\n",
    "\n",
    "println(typeof(b))"
   ]
  },
  {
   "cell_type": "code",
   "execution_count": 12,
   "metadata": {},
   "outputs": [
    {
     "name": "stdout",
     "output_type": "stream",
     "text": [
      "0\n",
      "Int64\n"
     ]
    }
   ],
   "source": [
    "啊 = 0\n",
    "println(啊)\n",
    "\n",
    "println(typeof(啊))"
   ]
  },
  {
   "cell_type": "code",
   "execution_count": 49,
   "metadata": {},
   "outputs": [
    {
     "data": {
      "text/plain": [
       "0"
      ]
     },
     "execution_count": 49,
     "metadata": {},
     "output_type": "execute_result"
    }
   ],
   "source": [
    "#\\alpha[tab]\n",
    "α = 0\n"
   ]
  },
  {
   "cell_type": "markdown",
   "metadata": {},
   "source": [
    "## 复数"
   ]
  },
  {
   "cell_type": "code",
   "execution_count": 15,
   "metadata": {},
   "outputs": [
    {
     "name": "stdout",
     "output_type": "stream",
     "text": [
      "x is: 1 + 3im\n",
      "y is: -8 + 6im\n",
      "false\n"
     ]
    }
   ],
   "source": [
    "x = 1 + 3im\n",
    "println(\"x is: \", x)\n",
    "\n",
    "y = (1 + 3im) * (1 + 3im)\n",
    "println(\"y is: \", y)\n",
    "\n",
    "# 优先级\n",
    "println(isequal(3/2im, 3/2*im))"
   ]
  },
  {
   "cell_type": "code",
   "execution_count": 18,
   "metadata": {},
   "outputs": [
    {
     "name": "stdout",
     "output_type": "stream",
     "text": [
      "1 + 0im\n",
      "0 + 0im\n"
     ]
    }
   ],
   "source": [
    "# 字面量函数\n",
    "println(one(x))\n",
    "println(zero(x))"
   ]
  },
  {
   "cell_type": "markdown",
   "metadata": {},
   "source": [
    "## 基本运算符"
   ]
  },
  {
   "cell_type": "code",
   "execution_count": 36,
   "metadata": {},
   "outputs": [
    {
     "name": "stdout",
     "output_type": "stream",
     "text": [
      "2//3\t2//3\n",
      "x ÷ y = -1.0\n",
      "x % y = 2.0\n",
      "mod(x, y) = -1.0\n"
     ]
    }
   ],
   "source": [
    "x = 5.0; y = -3\n",
    "\n",
    "\n",
    "x + y\n",
    "\n",
    "x - y\n",
    "\n",
    "x * y\n",
    "\n",
    "3x\n",
    "\n",
    "x / y\n",
    "\n",
    "x^y\n",
    "\n",
    "sqrt(x)\n",
    "\n",
    "## 分数\n",
    "println(2//3, \"\\t\", 6//9)\n",
    "\n",
    "## 整除\n",
    "x ÷ y\n",
    "println(\"x ÷ y = $(x ÷ y)\")\n",
    "\n",
    "## 取余\n",
    "x % y\n",
    "println(\"x % y = $(x % y)\")\n",
    "\n",
    "## 取模\n",
    "mod(x, y)\n",
    "println(\"mod(x, y) = $(mod(x, y))\")"
   ]
  },
  {
   "cell_type": "markdown",
   "metadata": {},
   "source": [
    "## 向量化运算\n",
    "\n",
    "Julia 中，每个二元运算符都有一个 dot 运算符与之对应。例如 `^ `就有对应的 `.^` 存在，`a .^ b` 被解析为 dot 调用 `(^).(a,b)`，这会执行 broadcast 操作。\n",
    "\n",
    "例如，在计算表达式  `A.^2 .+ sin.(A)` 时，Julia 只对 A 进行做一次循环，遍历 A 中的每个元素 a 并计算 `a^2 + sin(a)`。"
   ]
  },
  {
   "cell_type": "code",
   "execution_count": 24,
   "metadata": {
    "scrolled": true
   },
   "outputs": [
    {
     "data": {
      "text/plain": [
       "true"
      ]
     },
     "execution_count": 24,
     "metadata": {},
     "output_type": "execute_result"
    }
   ],
   "source": [
    "A  = [1,2,3,4,5]\n",
    "\n",
    "z  = A.^2 .+ sin.(A)\n",
    "zz = @. A^2 + sin(A)\n",
    "\n",
    "isequal(z, zz)"
   ]
  },
  {
   "cell_type": "markdown",
   "metadata": {},
   "source": [
    "## 数值比较"
   ]
  },
  {
   "cell_type": "code",
   "execution_count": 50,
   "metadata": {},
   "outputs": [
    {
     "data": {
      "text/plain": [
       "false"
      ]
     },
     "execution_count": 50,
     "metadata": {},
     "output_type": "execute_result"
    }
   ],
   "source": [
    "x == y\n",
    "\n",
    "x != y\n",
    "x ≠ y\n",
    "\n",
    "x<y\n",
    "\n",
    "x <= y\n",
    "\n",
    "z = -5\n",
    "x > y > z"
   ]
  },
  {
   "cell_type": "code",
   "execution_count": 27,
   "metadata": {},
   "outputs": [
    {
     "data": {
      "text/plain": [
       "false"
      ]
     },
     "execution_count": 27,
     "metadata": {},
     "output_type": "execute_result"
    }
   ],
   "source": [
    "# NaN 不等于、不小于且不大于任何数值，包括它自己\n",
    "\n",
    "NaN == NaN"
   ]
  },
  {
   "cell_type": "code",
   "execution_count": 28,
   "metadata": {},
   "outputs": [
    {
     "data": {
      "text/plain": [
       "true"
      ]
     },
     "execution_count": 28,
     "metadata": {},
     "output_type": "execute_result"
    }
   ],
   "source": [
    "isequal(NaN, NaN)"
   ]
  },
  {
   "cell_type": "markdown",
   "metadata": {},
   "source": [
    "## 几个特殊的函数"
   ]
  },
  {
   "cell_type": "code",
   "execution_count": 51,
   "metadata": {},
   "outputs": [
    {
     "data": {
      "text/plain": [
       "22025.465794806718"
      ]
     },
     "execution_count": 51,
     "metadata": {},
     "output_type": "execute_result"
    }
   ],
   "source": [
    "x = 10; y = 100\n",
    "\n",
    "\n",
    "cbrt(x)\n",
    "\n",
    "hypot(x, y)\n",
    "\n",
    "log(x)\n",
    "\n",
    "log2(x)\n",
    "\n",
    "log(y,x)\n",
    "\n",
    "log1p(x)  # 当 x接近 0 时的 log(1+x) 的精确值\n",
    "\n",
    "exp(x)\n",
    "\n",
    "expm1(x)  # 当 x 接近 0 时的 exp(x)-1 的精确值\n"
   ]
  },
  {
   "cell_type": "markdown",
   "metadata": {},
   "source": [
    "## 三、函数\n",
    "\n",
    "函数返回的值是最后计算的表达式的值，默认情况下，它是函数定义主体中的最后一个表达式。"
   ]
  },
  {
   "cell_type": "code",
   "execution_count": 53,
   "metadata": {},
   "outputs": [
    {
     "data": {
      "text/plain": [
       "1000"
      ]
     },
     "execution_count": 53,
     "metadata": {},
     "output_type": "execute_result"
    }
   ],
   "source": [
    "function f(x,y)\n",
    "    return x * y\n",
    "    x + y\n",
    "end\n",
    "\n",
    "f(x, y)"
   ]
  },
  {
   "cell_type": "code",
   "execution_count": 54,
   "metadata": {},
   "outputs": [
    {
     "data": {
      "text/plain": [
       "110"
      ]
     },
     "execution_count": 54,
     "metadata": {},
     "output_type": "execute_result"
    }
   ],
   "source": [
    "g(x,y) = x + y\n",
    "\n",
    "g(x, y)"
   ]
  },
  {
   "cell_type": "code",
   "execution_count": 48,
   "metadata": {},
   "outputs": [
    {
     "data": {
      "text/plain": [
       "110"
      ]
     },
     "execution_count": 48,
     "metadata": {},
     "output_type": "execute_result"
    }
   ],
   "source": [
    "Σ = f\n",
    "\n",
    "Σ(x,y)"
   ]
  },
  {
   "cell_type": "markdown",
   "metadata": {},
   "source": [
    "## 返回指定类型"
   ]
  },
  {
   "cell_type": "code",
   "execution_count": 51,
   "metadata": {},
   "outputs": [
    {
     "name": "stdout",
     "output_type": "stream",
     "text": [
      "6\n",
      "Int8\n"
     ]
    }
   ],
   "source": [
    "function h(x, y)::Int8\n",
    "    return x * y\n",
    "end\n",
    "\n",
    "\n",
    "hh = h(2,3)\n",
    "println(hh)\n",
    "println(typeof(hh))"
   ]
  },
  {
   "cell_type": "markdown",
   "metadata": {},
   "source": [
    "## 匿名函数\n",
    "\n",
    "不带函数名称地匿名创建的函数"
   ]
  },
  {
   "cell_type": "code",
   "execution_count": 52,
   "metadata": {},
   "outputs": [
    {
     "data": {
      "text/plain": [
       "#3 (generic function with 1 method)"
      ]
     },
     "execution_count": 52,
     "metadata": {},
     "output_type": "execute_result"
    }
   ],
   "source": [
    "x -> x^2 + 2x - 1"
   ]
  },
  {
   "cell_type": "code",
   "execution_count": 53,
   "metadata": {},
   "outputs": [
    {
     "data": {
      "text/plain": [
       "3-element Array{Int64,1}:\n",
       "  2\n",
       " 14\n",
       " -2"
      ]
     },
     "execution_count": 53,
     "metadata": {},
     "output_type": "execute_result"
    }
   ],
   "source": [
    "map(x -> x^2 + 2x - 1, [1, 3, -1])"
   ]
  },
  {
   "cell_type": "markdown",
   "metadata": {},
   "source": [
    "# 四、元组和数组\n",
    "\n",
    "## 元组\n",
    "\n",
    " 一个元组是一个固定长度的容器，可以容纳任何值，但不可以被修改(是immutable的)。"
   ]
  },
  {
   "cell_type": "code",
   "execution_count": 57,
   "metadata": {},
   "outputs": [
    {
     "data": {
      "text/plain": [
       "(1, 2, \"hello\")"
      ]
     },
     "execution_count": 57,
     "metadata": {},
     "output_type": "execute_result"
    }
   ],
   "source": [
    "x = (1,2,\"hello\")"
   ]
  },
  {
   "cell_type": "code",
   "execution_count": 58,
   "metadata": {},
   "outputs": [
    {
     "data": {
      "text/plain": [
       "1"
      ]
     },
     "execution_count": 58,
     "metadata": {},
     "output_type": "execute_result"
    }
   ],
   "source": [
    "x[1]\n"
   ]
  },
  {
   "cell_type": "code",
   "execution_count": 58,
   "metadata": {},
   "outputs": [
    {
     "data": {
      "text/plain": [
       "(a = 1, b = 3)"
      ]
     },
     "execution_count": 58,
     "metadata": {},
     "output_type": "execute_result"
    }
   ],
   "source": [
    "## named tuple\n",
    "\n",
    "x = (a=1, b=1+2)"
   ]
  },
  {
   "cell_type": "code",
   "execution_count": 59,
   "metadata": {},
   "outputs": [
    {
     "data": {
      "text/plain": [
       "3"
      ]
     },
     "execution_count": 59,
     "metadata": {},
     "output_type": "execute_result"
    }
   ],
   "source": [
    "x.b"
   ]
  },
  {
   "cell_type": "markdown",
   "metadata": {},
   "source": [
    "## 数组"
   ]
  },
  {
   "cell_type": "markdown",
   "metadata": {},
   "source": [
    "函数 | 描述\n",
    ":--: | :--:\n",
    "eltype(A)|A 中元素的类型\n",
    "length(A)|A 中元素的数量\n",
    "ndims(A)|A 的维数\n",
    "size(A)|一个包含 A 各个维度上元素数量的元组\n",
    "size(A,n)|A 第 n 维中的元素数量\n",
    "axes(A)|一个包含 A 有效索引的元组\n",
    "axes(A,n)|第 n 维有效索引的范围\n",
    "eachindex(A)|一个访问 A 中每一个位置的高效迭代器\n",
    "stride(A,k)|在第 k 维上的间隔（stride）（相邻元素间的线性索引距离）\n",
    "strides(A)|包含每一维上的间隔（stride）的元组"
   ]
  },
  {
   "cell_type": "code",
   "execution_count": 64,
   "metadata": {},
   "outputs": [
    {
     "data": {
      "text/plain": [
       "2×3 Array{Int64,2}:\n",
       " 1  1  1\n",
       " 1  1  1"
      ]
     },
     "execution_count": 64,
     "metadata": {},
     "output_type": "execute_result"
    }
   ],
   "source": [
    "ones(Int,2,3)"
   ]
  },
  {
   "cell_type": "code",
   "execution_count": 66,
   "metadata": {},
   "outputs": [
    {
     "data": {
      "text/plain": [
       "true"
      ]
     },
     "execution_count": 66,
     "metadata": {},
     "output_type": "execute_result"
    }
   ],
   "source": [
    "a = [1:3;\n",
    "     4:5;\n",
    "     6]\n",
    "\n",
    "b = [1:3\n",
    "     4:5\n",
    "     6]\n",
    "\n",
    "a == b"
   ]
  },
  {
   "cell_type": "code",
   "execution_count": 67,
   "metadata": {},
   "outputs": [
    {
     "data": {
      "text/plain": [
       "2×3 Array{Int64,2}:\n",
       " 1  4  7\n",
       " 2  5  8"
      ]
     },
     "execution_count": 67,
     "metadata": {},
     "output_type": "execute_result"
    }
   ],
   "source": [
    "c = [[1,2] [4,5] [7,8]]"
   ]
  },
  {
   "cell_type": "code",
   "execution_count": 70,
   "metadata": {},
   "outputs": [
    {
     "data": {
      "text/plain": [
       "3×2 Array{Int64,2}:\n",
       " 1  2\n",
       " 3  4\n",
       " 5  6"
      ]
     },
     "execution_count": 70,
     "metadata": {},
     "output_type": "execute_result"
    }
   ],
   "source": [
    "d = [1 2; 3 4; 5 6]"
   ]
  },
  {
   "cell_type": "markdown",
   "metadata": {},
   "source": [
    "### Comprehensions\n",
    "\n",
    "`A = [ F(x,y,...) for x=rx, y=ry, ... ]`\n",
    "\n",
    "这种形式的含义是 F(x,y,...) 取其给定列表中变量 x，y 等的每个值进行计算。"
   ]
  },
  {
   "cell_type": "code",
   "execution_count": 72,
   "metadata": {},
   "outputs": [
    {
     "data": {
      "text/plain": [
       "8-element Array{Float64,1}:\n",
       " 0.08297496019384609\n",
       " 0.16408312500192834\n",
       " 0.9821922957497968\n",
       " 0.9877271426603309\n",
       " 0.38412309315563764\n",
       " 0.34155236939425815\n",
       " 0.2358456831703455\n",
       " 0.27709557848328803"
      ]
     },
     "execution_count": 72,
     "metadata": {},
     "output_type": "execute_result"
    }
   ],
   "source": [
    "x = rand(8)"
   ]
  },
  {
   "cell_type": "code",
   "execution_count": 74,
   "metadata": {},
   "outputs": [
    {
     "data": {
      "text/plain": [
       "6-element Array{Float64,1}:\n",
       " 0.3483333764868749\n",
       " 0.7790487147904632\n",
       " 0.8354424185565241\n",
       " 0.5243814245914661\n",
       " 0.32576837877862486\n",
       " 0.2725848285545593"
      ]
     },
     "execution_count": 74,
     "metadata": {},
     "output_type": "execute_result"
    }
   ],
   "source": [
    "\n",
    "[ 0.25*x[i-1] + 0.5*x[i] + 0.25*x[i+1] for i=2:length(x)-1 ]\n"
   ]
  },
  {
   "cell_type": "code",
   "execution_count": 76,
   "metadata": {},
   "outputs": [
    {
     "data": {
      "text/plain": [
       "6-element Array{Float32,1}:\n",
       " 0.3483334\n",
       " 0.77904874\n",
       " 0.8354424\n",
       " 0.5243814\n",
       " 0.32576838\n",
       " 0.27258483"
      ]
     },
     "execution_count": 76,
     "metadata": {},
     "output_type": "execute_result"
    }
   ],
   "source": [
    "Float32[ 0.25*x[i-1] + 0.5*x[i] + 0.25*x[i+1] for i=2:length(x)-1 ]"
   ]
  },
  {
   "cell_type": "markdown",
   "metadata": {},
   "source": [
    "### Generator Expressions\n",
    "\n",
    "例如，以下表达式在不分配内存的情况下对一个序列进行求和："
   ]
  },
  {
   "cell_type": "code",
   "execution_count": 59,
   "metadata": {},
   "outputs": [
    {
     "data": {
      "text/plain": [
       "1.6439345666815615"
      ]
     },
     "execution_count": 59,
     "metadata": {},
     "output_type": "execute_result"
    }
   ],
   "source": [
    "sum(1/n^2 for n=1:1000)"
   ]
  },
  {
   "cell_type": "code",
   "execution_count": 81,
   "metadata": {},
   "outputs": [
    {
     "data": {
      "text/plain": [
       "4-element Array{Tuple{Float64,Int64},1}:\n",
       " (0.5, 1)\n",
       " (0.3333333333333333, 2)\n",
       " (0.3333333333333333, 3)\n",
       " (0.25, 4)"
      ]
     },
     "execution_count": 81,
     "metadata": {},
     "output_type": "execute_result"
    }
   ],
   "source": [
    "# for 后面所有逗号分隔的表达式都被解释为范围。\n",
    "map(tuple, (1/(i+j) for i=1:2, j=1:2), [1:4;])"
   ]
  },
  {
   "cell_type": "code",
   "execution_count": 82,
   "metadata": {},
   "outputs": [
    {
     "data": {
      "text/plain": [
       "6-element Array{Tuple{Int64,Int64},1}:\n",
       " (1, 1)\n",
       " (2, 1)\n",
       " (2, 2)\n",
       " (3, 1)\n",
       " (3, 2)\n",
       " (3, 3)"
      ]
     },
     "execution_count": 82,
     "metadata": {},
     "output_type": "execute_result"
    }
   ],
   "source": [
    "# 使用多个for\n",
    "[(i,j) for i=1:3 for j=1:i]"
   ]
  },
  {
   "cell_type": "code",
   "execution_count": 83,
   "metadata": {},
   "outputs": [
    {
     "data": {
      "text/plain": [
       "2-element Array{Tuple{Int64,Int64},1}:\n",
       " (2, 2)\n",
       " (3, 1)"
      ]
     },
     "execution_count": 83,
     "metadata": {},
     "output_type": "execute_result"
    }
   ],
   "source": [
    "# for & if\n",
    "[(i,j) for i=1:3 for j=1:i if i+j == 4]"
   ]
  },
  {
   "cell_type": "markdown",
   "metadata": {},
   "source": [
    "# 五、类型\n",
    "\n",
    "`::` 运算符可以用来在程序中给表达式和变量附加类型注释。\n",
    "\n",
    "当被附加到一个计算值的表达式时，`::` 操作符读作「是······的实例」。"
   ]
  },
  {
   "cell_type": "code",
   "execution_count": 88,
   "metadata": {},
   "outputs": [
    {
     "data": {
      "text/plain": [
       "Int64"
      ]
     },
     "execution_count": 88,
     "metadata": {},
     "output_type": "execute_result"
    }
   ],
   "source": [
    "a = (1 + 2)::Int\n",
    "typeof(a)"
   ]
  },
  {
   "cell_type": "code",
   "execution_count": 90,
   "metadata": {},
   "outputs": [
    {
     "data": {
      "text/plain": [
       "Int8"
      ]
     },
     "execution_count": 90,
     "metadata": {},
     "output_type": "execute_result"
    }
   ],
   "source": [
    "function foo()\n",
    "    x::Int8 = 100\n",
    "    x\n",
    "end\n",
    "\n",
    "b = foo()\n",
    "typeof(b)"
   ]
  },
  {
   "cell_type": "markdown",
   "metadata": {},
   "source": [
    "## Composite Types\n",
    "\n",
    "使用 `struct` 声明的对象都是不可变的，它们在构造后无法修改。"
   ]
  },
  {
   "cell_type": "code",
   "execution_count": 61,
   "metadata": {},
   "outputs": [],
   "source": [
    "struct Cat\n",
    "    name::String\n",
    "    age::Int\n",
    "end"
   ]
  },
  {
   "cell_type": "code",
   "execution_count": 62,
   "metadata": {},
   "outputs": [
    {
     "data": {
      "text/plain": [
       "Cat(\"Tom\", 10)"
      ]
     },
     "execution_count": 62,
     "metadata": {},
     "output_type": "execute_result"
    }
   ],
   "source": [
    "new = Cat(\"Tom\", 10)"
   ]
  },
  {
   "cell_type": "code",
   "execution_count": 63,
   "metadata": {},
   "outputs": [
    {
     "data": {
      "text/plain": [
       "10"
      ]
     },
     "execution_count": 63,
     "metadata": {},
     "output_type": "execute_result"
    }
   ],
   "source": [
    "new.age "
   ]
  },
  {
   "cell_type": "markdown",
   "metadata": {},
   "source": [
    "## mutable struct"
   ]
  },
  {
   "cell_type": "code",
   "execution_count": 64,
   "metadata": {},
   "outputs": [],
   "source": [
    "mutable struct Dog\n",
    "    name::String\n",
    "    age::Int\n",
    "end"
   ]
  },
  {
   "cell_type": "code",
   "execution_count": 65,
   "metadata": {},
   "outputs": [
    {
     "data": {
      "text/plain": [
       "Dog(\"Spike\", 9)"
      ]
     },
     "execution_count": 65,
     "metadata": {},
     "output_type": "execute_result"
    }
   ],
   "source": [
    "d = Dog(\"Spike\", 9)"
   ]
  },
  {
   "cell_type": "code",
   "execution_count": 42,
   "metadata": {},
   "outputs": [
    {
     "data": {
      "text/plain": [
       "8"
      ]
     },
     "execution_count": 42,
     "metadata": {},
     "output_type": "execute_result"
    }
   ],
   "source": [
    "d.age = 8\n",
    "d.age"
   ]
  },
  {
   "cell_type": "markdown",
   "metadata": {},
   "source": [
    "# 六、方法\n",
    "\n",
    "对于**一个函数**的**一个可能行为**的定义叫做方法。之前我们只展示了那些只定了一个方法的，对参数的所有类型都适用的函数。\n",
    "\n",
    "为了解释清楚**方法**的概念，不得不提**分派**和**多重分派**:\n",
    "\n",
    "* 当一个函数被应用时执行方法的选择被称为**分派**。\n",
    "\n",
    "* 使用函数的所有参数，而非只用第一个，来决定调用哪个方法被称为**多重分派**。\n",
    "\n",
    "\n",
    "多重分派和灵活的参数类型系统让Julia有能力抽象地表达高层级算法，而与实现细节解耦，也能生成高效而专用的代码来在运行中处理每个情况。"
   ]
  },
  {
   "cell_type": "code",
   "execution_count": 66,
   "metadata": {},
   "outputs": [
    {
     "data": {
      "text/plain": [
       "ff (generic function with 1 method)"
      ]
     },
     "execution_count": 66,
     "metadata": {},
     "output_type": "execute_result"
    }
   ],
   "source": [
    "ff(x::Float64, y::Float64) = 2x + y"
   ]
  },
  {
   "cell_type": "code",
   "execution_count": 67,
   "metadata": {},
   "outputs": [
    {
     "data": {
      "text/plain": [
       "ff (generic function with 2 methods)"
      ]
     },
     "execution_count": 67,
     "metadata": {},
     "output_type": "execute_result"
    }
   ],
   "source": [
    "ff(x::Number, y::Number) = 2x - y"
   ]
  },
  {
   "cell_type": "code",
   "execution_count": 68,
   "metadata": {},
   "outputs": [
    {
     "data": {
      "text/plain": [
       "4.0"
      ]
     },
     "execution_count": 68,
     "metadata": {},
     "output_type": "execute_result"
    }
   ],
   "source": [
    "ff(1.0, 2.0)"
   ]
  },
  {
   "cell_type": "code",
   "execution_count": 69,
   "metadata": {},
   "outputs": [
    {
     "data": {
      "text/plain": [
       "0.0"
      ]
     },
     "execution_count": 69,
     "metadata": {},
     "output_type": "execute_result"
    }
   ],
   "source": [
    "ff(1, 2.0)"
   ]
  },
  {
   "cell_type": "code",
   "execution_count": 70,
   "metadata": {},
   "outputs": [
    {
     "data": {
      "text/html": [
       "# 2 methods for generic function <b>ff</b>:<ul><li> ff(x::<b>Float64</b>, y::<b>Float64</b>) in Main at In[66]:1</li> <li> ff(x::<b>Number</b>, y::<b>Number</b>) in Main at In[67]:1</li> </ul>"
      ],
      "text/plain": [
       "# 2 methods for generic function \"ff\":\n",
       "[1] ff(x::Float64, y::Float64) in Main at In[66]:1\n",
       "[2] ff(x::Number, y::Number) in Main at In[67]:1"
      ]
     },
     "execution_count": 70,
     "metadata": {},
     "output_type": "execute_result"
    }
   ],
   "source": [
    "methods(ff)"
   ]
  },
  {
   "cell_type": "markdown",
   "metadata": {},
   "source": [
    "# 应用\n",
    "\n",
    "## 绘图"
   ]
  },
  {
   "cell_type": "code",
   "execution_count": 17,
   "metadata": {},
   "outputs": [
    {
     "data": {
      "image/svg+xml": [
       "<?xml version=\"1.0\" encoding=\"utf-8\"?>\n",
       "<svg xmlns=\"http://www.w3.org/2000/svg\" xmlns:xlink=\"http://www.w3.org/1999/xlink\" width=\"600\" height=\"400\" viewBox=\"0 0 2400 1600\">\n",
       "<defs>\n",
       "  <clipPath id=\"clip120\">\n",
       "    <rect x=\"0\" y=\"0\" width=\"2400\" height=\"1600\"/>\n",
       "  </clipPath>\n",
       "</defs>\n",
       "<path clip-path=\"url(#clip120)\" d=\"\n",
       "M0 1600 L2400 1600 L2400 0 L0 0  Z\n",
       "  \" fill=\"#ffffff\" fill-rule=\"evenodd\" fill-opacity=\"1\"/>\n",
       "<defs>\n",
       "  <clipPath id=\"clip121\">\n",
       "    <rect x=\"480\" y=\"0\" width=\"1681\" height=\"1600\"/>\n",
       "  </clipPath>\n",
       "</defs>\n",
       "<path clip-path=\"url(#clip120)\" d=\"\n",
       "M162.455 1486.45 L2352.76 1486.45 L2352.76 47.2441 L162.455 47.2441  Z\n",
       "  \" fill=\"#ffffff\" fill-rule=\"evenodd\" fill-opacity=\"1\"/>\n",
       "<defs>\n",
       "  <clipPath id=\"clip122\">\n",
       "    <rect x=\"162\" y=\"47\" width=\"2191\" height=\"1440\"/>\n",
       "  </clipPath>\n",
       "</defs>\n",
       "<polyline clip-path=\"url(#clip122)\" style=\"stroke:#000000; stroke-width:2; stroke-opacity:0.1; fill:none\" points=\"\n",
       "  224.444,1486.45 224.444,47.2441 \n",
       "  \"/>\n",
       "<polyline clip-path=\"url(#clip122)\" style=\"stroke:#000000; stroke-width:2; stroke-opacity:0.1; fill:none\" points=\"\n",
       "  553.31,1486.45 553.31,47.2441 \n",
       "  \"/>\n",
       "<polyline clip-path=\"url(#clip122)\" style=\"stroke:#000000; stroke-width:2; stroke-opacity:0.1; fill:none\" points=\"\n",
       "  882.175,1486.45 882.175,47.2441 \n",
       "  \"/>\n",
       "<polyline clip-path=\"url(#clip122)\" style=\"stroke:#000000; stroke-width:2; stroke-opacity:0.1; fill:none\" points=\"\n",
       "  1211.04,1486.45 1211.04,47.2441 \n",
       "  \"/>\n",
       "<polyline clip-path=\"url(#clip122)\" style=\"stroke:#000000; stroke-width:2; stroke-opacity:0.1; fill:none\" points=\"\n",
       "  1539.91,1486.45 1539.91,47.2441 \n",
       "  \"/>\n",
       "<polyline clip-path=\"url(#clip122)\" style=\"stroke:#000000; stroke-width:2; stroke-opacity:0.1; fill:none\" points=\"\n",
       "  1868.77,1486.45 1868.77,47.2441 \n",
       "  \"/>\n",
       "<polyline clip-path=\"url(#clip122)\" style=\"stroke:#000000; stroke-width:2; stroke-opacity:0.1; fill:none\" points=\"\n",
       "  2197.64,1486.45 2197.64,47.2441 \n",
       "  \"/>\n",
       "<polyline clip-path=\"url(#clip122)\" style=\"stroke:#000000; stroke-width:2; stroke-opacity:0.1; fill:none\" points=\"\n",
       "  162.455,1445.87 2352.76,1445.87 \n",
       "  \"/>\n",
       "<polyline clip-path=\"url(#clip122)\" style=\"stroke:#000000; stroke-width:2; stroke-opacity:0.1; fill:none\" points=\"\n",
       "  162.455,1106.4 2352.76,1106.4 \n",
       "  \"/>\n",
       "<polyline clip-path=\"url(#clip122)\" style=\"stroke:#000000; stroke-width:2; stroke-opacity:0.1; fill:none\" points=\"\n",
       "  162.455,766.924 2352.76,766.924 \n",
       "  \"/>\n",
       "<polyline clip-path=\"url(#clip122)\" style=\"stroke:#000000; stroke-width:2; stroke-opacity:0.1; fill:none\" points=\"\n",
       "  162.455,427.45 2352.76,427.45 \n",
       "  \"/>\n",
       "<polyline clip-path=\"url(#clip122)\" style=\"stroke:#000000; stroke-width:2; stroke-opacity:0.1; fill:none\" points=\"\n",
       "  162.455,87.9762 2352.76,87.9762 \n",
       "  \"/>\n",
       "<polyline clip-path=\"url(#clip120)\" style=\"stroke:#000000; stroke-width:4; stroke-opacity:1; fill:none\" points=\"\n",
       "  162.455,1486.45 2352.76,1486.45 \n",
       "  \"/>\n",
       "<polyline clip-path=\"url(#clip120)\" style=\"stroke:#000000; stroke-width:4; stroke-opacity:1; fill:none\" points=\"\n",
       "  162.455,1486.45 162.455,47.2441 \n",
       "  \"/>\n",
       "<polyline clip-path=\"url(#clip120)\" style=\"stroke:#000000; stroke-width:4; stroke-opacity:1; fill:none\" points=\"\n",
       "  224.444,1486.45 224.444,1469.18 \n",
       "  \"/>\n",
       "<polyline clip-path=\"url(#clip120)\" style=\"stroke:#000000; stroke-width:4; stroke-opacity:1; fill:none\" points=\"\n",
       "  553.31,1486.45 553.31,1469.18 \n",
       "  \"/>\n",
       "<polyline clip-path=\"url(#clip120)\" style=\"stroke:#000000; stroke-width:4; stroke-opacity:1; fill:none\" points=\"\n",
       "  882.175,1486.45 882.175,1469.18 \n",
       "  \"/>\n",
       "<polyline clip-path=\"url(#clip120)\" style=\"stroke:#000000; stroke-width:4; stroke-opacity:1; fill:none\" points=\"\n",
       "  1211.04,1486.45 1211.04,1469.18 \n",
       "  \"/>\n",
       "<polyline clip-path=\"url(#clip120)\" style=\"stroke:#000000; stroke-width:4; stroke-opacity:1; fill:none\" points=\"\n",
       "  1539.91,1486.45 1539.91,1469.18 \n",
       "  \"/>\n",
       "<polyline clip-path=\"url(#clip120)\" style=\"stroke:#000000; stroke-width:4; stroke-opacity:1; fill:none\" points=\"\n",
       "  1868.77,1486.45 1868.77,1469.18 \n",
       "  \"/>\n",
       "<polyline clip-path=\"url(#clip120)\" style=\"stroke:#000000; stroke-width:4; stroke-opacity:1; fill:none\" points=\"\n",
       "  2197.64,1486.45 2197.64,1469.18 \n",
       "  \"/>\n",
       "<polyline clip-path=\"url(#clip120)\" style=\"stroke:#000000; stroke-width:4; stroke-opacity:1; fill:none\" points=\"\n",
       "  162.455,1445.87 188.738,1445.87 \n",
       "  \"/>\n",
       "<polyline clip-path=\"url(#clip120)\" style=\"stroke:#000000; stroke-width:4; stroke-opacity:1; fill:none\" points=\"\n",
       "  162.455,1106.4 188.738,1106.4 \n",
       "  \"/>\n",
       "<polyline clip-path=\"url(#clip120)\" style=\"stroke:#000000; stroke-width:4; stroke-opacity:1; fill:none\" points=\"\n",
       "  162.455,766.924 188.738,766.924 \n",
       "  \"/>\n",
       "<polyline clip-path=\"url(#clip120)\" style=\"stroke:#000000; stroke-width:4; stroke-opacity:1; fill:none\" points=\"\n",
       "  162.455,427.45 188.738,427.45 \n",
       "  \"/>\n",
       "<polyline clip-path=\"url(#clip120)\" style=\"stroke:#000000; stroke-width:4; stroke-opacity:1; fill:none\" points=\"\n",
       "  162.455,87.9762 188.738,87.9762 \n",
       "  \"/>\n",
       "<path clip-path=\"url(#clip120)\" d=\"M 0 0 M224.444 1508.44 Q220.833 1508.44 219.005 1512 Q217.199 1515.55 217.199 1522.67 Q217.199 1529.78 219.005 1533.35 Q220.833 1536.89 224.444 1536.89 Q228.079 1536.89 229.884 1533.35 Q231.713 1529.78 231.713 1522.67 Q231.713 1515.55 229.884 1512 Q228.079 1508.44 224.444 1508.44 M224.444 1504.73 Q230.254 1504.73 233.31 1509.34 Q236.389 1513.92 236.389 1522.67 Q236.389 1531.4 233.31 1536.01 Q230.254 1540.59 224.444 1540.59 Q218.634 1540.59 215.556 1536.01 Q212.5 1531.4 212.5 1522.67 Q212.5 1513.92 215.556 1509.34 Q218.634 1504.73 224.444 1504.73 Z\" fill=\"#000000\" fill-rule=\"evenodd\" fill-opacity=\"1\" /><path clip-path=\"url(#clip120)\" d=\"M 0 0 M543.692 1535.98 L551.331 1535.98 L551.331 1509.62 L543.02 1511.29 L543.02 1507.03 L551.284 1505.36 L555.96 1505.36 L555.96 1535.98 L563.599 1535.98 L563.599 1539.92 L543.692 1539.92 L543.692 1535.98 Z\" fill=\"#000000\" fill-rule=\"evenodd\" fill-opacity=\"1\" /><path clip-path=\"url(#clip120)\" d=\"M 0 0 M876.828 1535.98 L893.147 1535.98 L893.147 1539.92 L871.203 1539.92 L871.203 1535.98 Q873.865 1533.23 878.448 1528.6 Q883.055 1523.95 884.235 1522.61 Q886.481 1520.08 887.36 1518.35 Q888.263 1516.59 888.263 1514.9 Q888.263 1512.14 886.319 1510.41 Q884.397 1508.67 881.295 1508.67 Q879.096 1508.67 876.643 1509.43 Q874.212 1510.2 871.434 1511.75 L871.434 1507.03 Q874.258 1505.89 876.712 1505.31 Q879.166 1504.73 881.203 1504.73 Q886.573 1504.73 889.768 1507.42 Q892.962 1510.11 892.962 1514.6 Q892.962 1516.73 892.152 1518.65 Q891.365 1520.54 889.258 1523.14 Q888.68 1523.81 885.578 1527.03 Q882.476 1530.22 876.828 1535.98 Z\" fill=\"#000000\" fill-rule=\"evenodd\" fill-opacity=\"1\" /><path clip-path=\"url(#clip120)\" d=\"M 0 0 M1215.29 1521.29 Q1218.64 1522 1220.52 1524.27 Q1222.42 1526.54 1222.42 1529.87 Q1222.42 1534.99 1218.9 1537.79 Q1215.38 1540.59 1208.9 1540.59 Q1206.72 1540.59 1204.41 1540.15 Q1202.12 1539.73 1199.66 1538.88 L1199.66 1534.36 Q1201.61 1535.5 1203.92 1536.08 Q1206.24 1536.66 1208.76 1536.66 Q1213.16 1536.66 1215.45 1534.92 Q1217.76 1533.18 1217.76 1529.87 Q1217.76 1526.82 1215.61 1525.11 Q1213.48 1523.37 1209.66 1523.37 L1205.64 1523.37 L1205.64 1519.53 L1209.85 1519.53 Q1213.3 1519.53 1215.13 1518.16 Q1216.95 1516.77 1216.95 1514.18 Q1216.95 1511.52 1215.06 1510.11 Q1213.18 1508.67 1209.66 1508.67 Q1207.74 1508.67 1205.54 1509.09 Q1203.34 1509.5 1200.7 1510.38 L1200.7 1506.22 Q1203.37 1505.48 1205.68 1505.11 Q1208.02 1504.73 1210.08 1504.73 Q1215.4 1504.73 1218.51 1507.17 Q1221.61 1509.57 1221.61 1513.69 Q1221.61 1516.56 1219.96 1518.55 Q1218.32 1520.52 1215.29 1521.29 Z\" fill=\"#000000\" fill-rule=\"evenodd\" fill-opacity=\"1\" /><path clip-path=\"url(#clip120)\" d=\"M 0 0 M1542.91 1509.43 L1531.11 1527.88 L1542.91 1527.88 L1542.91 1509.43 M1541.69 1505.36 L1547.57 1505.36 L1547.57 1527.88 L1552.5 1527.88 L1552.5 1531.77 L1547.57 1531.77 L1547.57 1539.92 L1542.91 1539.92 L1542.91 1531.77 L1527.31 1531.77 L1527.31 1527.26 L1541.69 1505.36 Z\" fill=\"#000000\" fill-rule=\"evenodd\" fill-opacity=\"1\" /><path clip-path=\"url(#clip120)\" d=\"M 0 0 M1859.05 1505.36 L1877.41 1505.36 L1877.41 1509.3 L1863.33 1509.3 L1863.33 1517.77 Q1864.35 1517.42 1865.37 1517.26 Q1866.39 1517.07 1867.41 1517.07 Q1873.19 1517.07 1876.57 1520.24 Q1879.95 1523.42 1879.95 1528.83 Q1879.95 1534.41 1876.48 1537.51 Q1873.01 1540.59 1866.69 1540.59 Q1864.51 1540.59 1862.24 1540.22 Q1860 1539.85 1857.59 1539.11 L1857.59 1534.41 Q1859.67 1535.54 1861.9 1536.1 Q1864.12 1536.66 1866.6 1536.66 Q1870.6 1536.66 1872.94 1534.55 Q1875.28 1532.44 1875.28 1528.83 Q1875.28 1525.22 1872.94 1523.11 Q1870.6 1521.01 1866.6 1521.01 Q1864.72 1521.01 1862.85 1521.42 Q1860.99 1521.84 1859.05 1522.72 L1859.05 1505.36 Z\" fill=\"#000000\" fill-rule=\"evenodd\" fill-opacity=\"1\" /><path clip-path=\"url(#clip120)\" d=\"M 0 0 M2198.04 1520.78 Q2194.89 1520.78 2193.04 1522.93 Q2191.21 1525.08 2191.21 1528.83 Q2191.21 1532.56 2193.04 1534.73 Q2194.89 1536.89 2198.04 1536.89 Q2201.19 1536.89 2203.02 1534.73 Q2204.87 1532.56 2204.87 1528.83 Q2204.87 1525.08 2203.02 1522.93 Q2201.19 1520.78 2198.04 1520.78 M2207.32 1506.12 L2207.32 1510.38 Q2205.56 1509.55 2203.76 1509.11 Q2201.98 1508.67 2200.22 1508.67 Q2195.59 1508.67 2193.13 1511.8 Q2190.7 1514.92 2190.36 1521.24 Q2191.72 1519.23 2193.78 1518.16 Q2195.84 1517.07 2198.32 1517.07 Q2203.53 1517.07 2206.54 1520.24 Q2209.57 1523.39 2209.57 1528.83 Q2209.57 1534.16 2206.42 1537.37 Q2203.27 1540.59 2198.04 1540.59 Q2192.05 1540.59 2188.87 1536.01 Q2185.7 1531.4 2185.7 1522.67 Q2185.7 1514.48 2189.59 1509.62 Q2193.48 1504.73 2200.03 1504.73 Q2201.79 1504.73 2203.57 1505.08 Q2205.38 1505.43 2207.32 1506.12 Z\" fill=\"#000000\" fill-rule=\"evenodd\" fill-opacity=\"1\" /><path clip-path=\"url(#clip120)\" d=\"M 0 0 M63.2236 1448.27 L75.7004 1448.27 L75.7004 1452.06 L63.2236 1452.06 L63.2236 1448.27 Z\" fill=\"#000000\" fill-rule=\"evenodd\" fill-opacity=\"1\" /><path clip-path=\"url(#clip120)\" d=\"M 0 0 M81.58 1459.22 L89.2188 1459.22 L89.2188 1432.85 L80.9087 1434.52 L80.9087 1430.26 L89.1725 1428.59 L93.8484 1428.59 L93.8484 1459.22 L101.487 1459.22 L101.487 1463.15 L81.58 1463.15 L81.58 1459.22 Z\" fill=\"#000000\" fill-rule=\"evenodd\" fill-opacity=\"1\" /><path clip-path=\"url(#clip120)\" d=\"M 0 0 M106.557 1457.27 L111.441 1457.27 L111.441 1463.15 L106.557 1463.15 L106.557 1457.27 Z\" fill=\"#000000\" fill-rule=\"evenodd\" fill-opacity=\"1\" /><path clip-path=\"url(#clip120)\" d=\"M 0 0 M126.51 1431.67 Q122.899 1431.67 121.071 1435.24 Q119.265 1438.78 119.265 1445.91 Q119.265 1453.01 121.071 1456.58 Q122.899 1460.12 126.51 1460.12 Q130.145 1460.12 131.95 1456.58 Q133.779 1453.01 133.779 1445.91 Q133.779 1438.78 131.95 1435.24 Q130.145 1431.67 126.51 1431.67 M126.51 1427.97 Q132.32 1427.97 135.376 1432.57 Q138.455 1437.16 138.455 1445.91 Q138.455 1454.63 135.376 1459.24 Q132.32 1463.82 126.51 1463.82 Q120.7 1463.82 117.621 1459.24 Q114.566 1454.63 114.566 1445.91 Q114.566 1437.16 117.621 1432.57 Q120.7 1427.97 126.51 1427.97 Z\" fill=\"#000000\" fill-rule=\"evenodd\" fill-opacity=\"1\" /><path clip-path=\"url(#clip120)\" d=\"M 0 0 M62.9921 1108.79 L75.4689 1108.79 L75.4689 1112.59 L62.9921 1112.59 L62.9921 1108.79 Z\" fill=\"#000000\" fill-rule=\"evenodd\" fill-opacity=\"1\" /><path clip-path=\"url(#clip120)\" d=\"M 0 0 M90.5383 1092.2 Q86.9272 1092.2 85.0985 1095.76 Q83.2929 1099.3 83.2929 1106.43 Q83.2929 1113.54 85.0985 1117.1 Q86.9272 1120.65 90.5383 1120.65 Q94.1725 1120.65 95.9781 1117.1 Q97.8068 1113.54 97.8068 1106.43 Q97.8068 1099.3 95.9781 1095.76 Q94.1725 1092.2 90.5383 1092.2 M90.5383 1088.49 Q96.3484 1088.49 99.404 1093.1 Q102.483 1097.68 102.483 1106.43 Q102.483 1115.16 99.404 1119.77 Q96.3484 1124.35 90.5383 1124.35 Q84.7281 1124.35 81.6494 1119.77 Q78.5939 1115.16 78.5939 1106.43 Q78.5939 1097.68 81.6494 1093.1 Q84.7281 1088.49 90.5383 1088.49 Z\" fill=\"#000000\" fill-rule=\"evenodd\" fill-opacity=\"1\" /><path clip-path=\"url(#clip120)\" d=\"M 0 0 M107.552 1117.8 L112.436 1117.8 L112.436 1123.68 L107.552 1123.68 L107.552 1117.8 Z\" fill=\"#000000\" fill-rule=\"evenodd\" fill-opacity=\"1\" /><path clip-path=\"url(#clip120)\" d=\"M 0 0 M117.552 1089.12 L135.908 1089.12 L135.908 1093.05 L121.834 1093.05 L121.834 1101.53 Q122.853 1101.18 123.871 1101.02 Q124.89 1100.83 125.908 1100.83 Q131.695 1100.83 135.075 1104 Q138.455 1107.17 138.455 1112.59 Q138.455 1118.17 134.982 1121.27 Q131.51 1124.35 125.191 1124.35 Q123.015 1124.35 120.746 1123.98 Q118.501 1123.61 116.094 1122.87 L116.094 1118.17 Q118.177 1119.3 120.399 1119.86 Q122.621 1120.41 125.098 1120.41 Q129.103 1120.41 131.441 1118.31 Q133.779 1116.2 133.779 1112.59 Q133.779 1108.98 131.441 1106.87 Q129.103 1104.77 125.098 1104.77 Q123.223 1104.77 121.348 1105.18 Q119.496 1105.6 117.552 1106.48 L117.552 1089.12 Z\" fill=\"#000000\" fill-rule=\"evenodd\" fill-opacity=\"1\" /><path clip-path=\"url(#clip120)\" d=\"M 0 0 M89.5429 752.723 Q85.9318 752.723 84.1031 756.287 Q82.2976 759.829 82.2976 766.959 Q82.2976 774.065 84.1031 777.63 Q85.9318 781.171 89.5429 781.171 Q93.1771 781.171 94.9827 777.63 Q96.8114 774.065 96.8114 766.959 Q96.8114 759.829 94.9827 756.287 Q93.1771 752.723 89.5429 752.723 M89.5429 749.019 Q95.3531 749.019 98.4086 753.625 Q101.487 758.209 101.487 766.959 Q101.487 775.685 98.4086 780.292 Q95.3531 784.875 89.5429 784.875 Q83.7328 784.875 80.6541 780.292 Q77.5985 775.685 77.5985 766.959 Q77.5985 758.209 80.6541 753.625 Q83.7328 749.019 89.5429 749.019 Z\" fill=\"#000000\" fill-rule=\"evenodd\" fill-opacity=\"1\" /><path clip-path=\"url(#clip120)\" d=\"M 0 0 M106.557 778.324 L111.441 778.324 L111.441 784.204 L106.557 784.204 L106.557 778.324 Z\" fill=\"#000000\" fill-rule=\"evenodd\" fill-opacity=\"1\" /><path clip-path=\"url(#clip120)\" d=\"M 0 0 M126.51 752.723 Q122.899 752.723 121.071 756.287 Q119.265 759.829 119.265 766.959 Q119.265 774.065 121.071 777.63 Q122.899 781.171 126.51 781.171 Q130.145 781.171 131.95 777.63 Q133.779 774.065 133.779 766.959 Q133.779 759.829 131.95 756.287 Q130.145 752.723 126.51 752.723 M126.51 749.019 Q132.32 749.019 135.376 753.625 Q138.455 758.209 138.455 766.959 Q138.455 775.685 135.376 780.292 Q132.32 784.875 126.51 784.875 Q120.7 784.875 117.621 780.292 Q114.566 775.685 114.566 766.959 Q114.566 758.209 117.621 753.625 Q120.7 749.019 126.51 749.019 Z\" fill=\"#000000\" fill-rule=\"evenodd\" fill-opacity=\"1\" /><path clip-path=\"url(#clip120)\" d=\"M 0 0 M90.5383 413.249 Q86.9272 413.249 85.0985 416.814 Q83.2929 420.355 83.2929 427.485 Q83.2929 434.591 85.0985 438.156 Q86.9272 441.698 90.5383 441.698 Q94.1725 441.698 95.9781 438.156 Q97.8068 434.591 97.8068 427.485 Q97.8068 420.355 95.9781 416.814 Q94.1725 413.249 90.5383 413.249 M90.5383 409.545 Q96.3484 409.545 99.404 414.152 Q102.483 418.735 102.483 427.485 Q102.483 436.212 99.404 440.818 Q96.3484 445.401 90.5383 445.401 Q84.7281 445.401 81.6494 440.818 Q78.5939 436.212 78.5939 427.485 Q78.5939 418.735 81.6494 414.152 Q84.7281 409.545 90.5383 409.545 Z\" fill=\"#000000\" fill-rule=\"evenodd\" fill-opacity=\"1\" /><path clip-path=\"url(#clip120)\" d=\"M 0 0 M107.552 438.85 L112.436 438.85 L112.436 444.73 L107.552 444.73 L107.552 438.85 Z\" fill=\"#000000\" fill-rule=\"evenodd\" fill-opacity=\"1\" /><path clip-path=\"url(#clip120)\" d=\"M 0 0 M117.552 410.17 L135.908 410.17 L135.908 414.105 L121.834 414.105 L121.834 422.577 Q122.853 422.23 123.871 422.068 Q124.89 421.883 125.908 421.883 Q131.695 421.883 135.075 425.054 Q138.455 428.226 138.455 433.642 Q138.455 439.221 134.982 442.323 Q131.51 445.401 125.191 445.401 Q123.015 445.401 120.746 445.031 Q118.501 444.661 116.094 443.92 L116.094 439.221 Q118.177 440.355 120.399 440.911 Q122.621 441.466 125.098 441.466 Q129.103 441.466 131.441 439.36 Q133.779 437.253 133.779 433.642 Q133.779 430.031 131.441 427.925 Q129.103 425.818 125.098 425.818 Q123.223 425.818 121.348 426.235 Q119.496 426.651 117.552 427.531 L117.552 410.17 Z\" fill=\"#000000\" fill-rule=\"evenodd\" fill-opacity=\"1\" /><path clip-path=\"url(#clip120)\" d=\"M 0 0 M81.58 101.321 L89.2188 101.321 L89.2188 74.9555 L80.9087 76.6221 L80.9087 72.3629 L89.1725 70.6962 L93.8484 70.6962 L93.8484 101.321 L101.487 101.321 L101.487 105.256 L81.58 105.256 L81.58 101.321 Z\" fill=\"#000000\" fill-rule=\"evenodd\" fill-opacity=\"1\" /><path clip-path=\"url(#clip120)\" d=\"M 0 0 M106.557 99.3766 L111.441 99.3766 L111.441 105.256 L106.557 105.256 L106.557 99.3766 Z\" fill=\"#000000\" fill-rule=\"evenodd\" fill-opacity=\"1\" /><path clip-path=\"url(#clip120)\" d=\"M 0 0 M126.51 73.7749 Q122.899 73.7749 121.071 77.3397 Q119.265 80.8814 119.265 88.011 Q119.265 95.1174 121.071 98.6822 Q122.899 102.224 126.51 102.224 Q130.145 102.224 131.95 98.6822 Q133.779 95.1174 133.779 88.011 Q133.779 80.8814 131.95 77.3397 Q130.145 73.7749 126.51 73.7749 M126.51 70.0712 Q132.32 70.0712 135.376 74.6777 Q138.455 79.261 138.455 88.011 Q138.455 96.7378 135.376 101.344 Q132.32 105.928 126.51 105.928 Q120.7 105.928 117.621 101.344 Q114.566 96.7378 114.566 88.011 Q114.566 79.261 117.621 74.6777 Q120.7 70.0712 126.51 70.0712 Z\" fill=\"#000000\" fill-rule=\"evenodd\" fill-opacity=\"1\" /><polyline clip-path=\"url(#clip122)\" style=\"stroke:#009af9; stroke-width:4; stroke-opacity:1; fill:none\" points=\"\n",
       "  224.444,766.924 234.534,746.097 244.624,725.289 337.917,537.278 431.211,367.624 487.276,280.251 543.342,206.989 567.043,180.793 590.744,157.64 614.446,137.65 \n",
       "  638.147,120.927 689.64,96.2473 741.132,87.9763 788.604,95.0695 836.075,116.138 886.97,153.744 937.865,206.006 996.831,283.223 1055.8,375.949 1108.2,468.975 \n",
       "  1160.6,569.55 1206.55,661.951 1252.51,756.397 1302.61,859.54 1352.71,960.537 1403.1,1057.61 1453.5,1147.86 1509.22,1237.17 1564.95,1313.02 1617.96,1370.7 \n",
       "  1670.98,1412.71 1698.54,1427.99 1726.11,1438.63 1753.67,1444.55 1781.23,1445.72 1827.64,1436.92 1874.04,1414.81 1930.69,1370.43 1987.35,1308.17 2040.61,1235 \n",
       "  2093.86,1149.58 2179.18,992.893 2264.51,821.083 2277.64,794.025 2290.77,766.924 \n",
       "  \"/>\n",
       "<path clip-path=\"url(#clip120)\" d=\"\n",
       "M1985.36 216.178 L2279.75 216.178 L2279.75 95.2176 L1985.36 95.2176  Z\n",
       "  \" fill=\"#ffffff\" fill-rule=\"evenodd\" fill-opacity=\"1\"/>\n",
       "<polyline clip-path=\"url(#clip120)\" style=\"stroke:#000000; stroke-width:4; stroke-opacity:1; fill:none\" points=\"\n",
       "  1985.36,216.178 2279.75,216.178 2279.75,95.2176 1985.36,95.2176 1985.36,216.178 \n",
       "  \"/>\n",
       "<polyline clip-path=\"url(#clip120)\" style=\"stroke:#009af9; stroke-width:4; stroke-opacity:1; fill:none\" points=\"\n",
       "  2009.7,155.698 2155.72,155.698 \n",
       "  \"/>\n",
       "<path clip-path=\"url(#clip120)\" d=\"M 0 0 M2193.9 175.385 Q2192.09 180.015 2190.38 181.427 Q2188.67 182.839 2185.79 182.839 L2182.39 182.839 L2182.39 179.274 L2184.89 179.274 Q2186.65 179.274 2187.62 178.44 Q2188.6 177.607 2189.78 174.505 L2190.54 172.561 L2180.05 147.052 L2184.57 147.052 L2192.67 167.329 L2200.77 147.052 L2205.29 147.052 L2193.9 175.385 Z\" fill=\"#000000\" fill-rule=\"evenodd\" fill-opacity=\"1\" /><path clip-path=\"url(#clip120)\" d=\"M 0 0 M2211.17 169.042 L2218.8 169.042 L2218.8 142.677 L2210.49 144.343 L2210.49 140.084 L2218.76 138.418 L2223.43 138.418 L2223.43 169.042 L2231.07 169.042 L2231.07 172.978 L2211.17 172.978 L2211.17 169.042 Z\" fill=\"#000000\" fill-rule=\"evenodd\" fill-opacity=\"1\" /></svg>\n"
      ]
     },
     "execution_count": 17,
     "metadata": {},
     "output_type": "execute_result"
    }
   ],
   "source": [
    "using Plots\n",
    "plot(sin, 0, 2pi)"
   ]
  },
  {
   "cell_type": "markdown",
   "metadata": {},
   "source": [
    "参数\t| 描述\n",
    ":--: | :--:\n",
    "legend\t| 轴名称\n",
    "aspect_ratio |\tUse :equal to have x and y axis have same scale\n",
    "linewidth |\t曲线宽度，大于1\n",
    "color\t| 曲线颜色（e.g.，:red, :green)"
   ]
  },
  {
   "cell_type": "markdown",
   "metadata": {},
   "source": [
    "## 极限"
   ]
  },
  {
   "cell_type": "code",
   "execution_count": 37,
   "metadata": {},
   "outputs": [
    {
     "data": {
      "text/latex": [
       "\\begin{equation*}\\cos{\\left(x \\right)}\\end{equation*}"
      ],
      "text/plain": [
       "cos(x)"
      ]
     },
     "execution_count": 37,
     "metadata": {},
     "output_type": "execute_result"
    }
   ],
   "source": [
    "using SymPy\n",
    "\n",
    "@vars x h real=true\n",
    "limit((sin(x+h) - sin(x))/ h, h, 0)"
   ]
  },
  {
   "cell_type": "code",
   "execution_count": 11,
   "metadata": {},
   "outputs": [
    {
     "data": {
      "image/svg+xml": [
       "<?xml version=\"1.0\" encoding=\"utf-8\"?>\n",
       "<svg xmlns=\"http://www.w3.org/2000/svg\" xmlns:xlink=\"http://www.w3.org/1999/xlink\" width=\"600\" height=\"400\" viewBox=\"0 0 2400 1600\">\n",
       "<defs>\n",
       "  <clipPath id=\"clip130\">\n",
       "    <rect x=\"0\" y=\"0\" width=\"2400\" height=\"1600\"/>\n",
       "  </clipPath>\n",
       "</defs>\n",
       "<path clip-path=\"url(#clip130)\" d=\"\n",
       "M0 1600 L2400 1600 L2400 0 L0 0  Z\n",
       "  \" fill=\"#ffffff\" fill-rule=\"evenodd\" fill-opacity=\"1\"/>\n",
       "<defs>\n",
       "  <clipPath id=\"clip131\">\n",
       "    <rect x=\"480\" y=\"0\" width=\"1681\" height=\"1600\"/>\n",
       "  </clipPath>\n",
       "</defs>\n",
       "<path clip-path=\"url(#clip130)\" d=\"\n",
       "M126.969 1486.45 L2352.76 1486.45 L2352.76 47.2441 L126.969 47.2441  Z\n",
       "  \" fill=\"#ffffff\" fill-rule=\"evenodd\" fill-opacity=\"1\"/>\n",
       "<defs>\n",
       "  <clipPath id=\"clip132\">\n",
       "    <rect x=\"126\" y=\"47\" width=\"2227\" height=\"1440\"/>\n",
       "  </clipPath>\n",
       "</defs>\n",
       "<polyline clip-path=\"url(#clip132)\" style=\"stroke:#000000; stroke-width:2; stroke-opacity:0.1; fill:none\" points=\"\n",
       "  399.943,1486.45 399.943,47.2441 \n",
       "  \"/>\n",
       "<polyline clip-path=\"url(#clip132)\" style=\"stroke:#000000; stroke-width:2; stroke-opacity:0.1; fill:none\" points=\"\n",
       "  819.902,1486.45 819.902,47.2441 \n",
       "  \"/>\n",
       "<polyline clip-path=\"url(#clip132)\" style=\"stroke:#000000; stroke-width:2; stroke-opacity:0.1; fill:none\" points=\"\n",
       "  1239.86,1486.45 1239.86,47.2441 \n",
       "  \"/>\n",
       "<polyline clip-path=\"url(#clip132)\" style=\"stroke:#000000; stroke-width:2; stroke-opacity:0.1; fill:none\" points=\"\n",
       "  1659.82,1486.45 1659.82,47.2441 \n",
       "  \"/>\n",
       "<polyline clip-path=\"url(#clip132)\" style=\"stroke:#000000; stroke-width:2; stroke-opacity:0.1; fill:none\" points=\"\n",
       "  2079.78,1486.45 2079.78,47.2441 \n",
       "  \"/>\n",
       "<polyline clip-path=\"url(#clip132)\" style=\"stroke:#000000; stroke-width:2; stroke-opacity:0.1; fill:none\" points=\"\n",
       "  126.969,1309.94 2352.76,1309.94 \n",
       "  \"/>\n",
       "<polyline clip-path=\"url(#clip132)\" style=\"stroke:#000000; stroke-width:2; stroke-opacity:0.1; fill:none\" points=\"\n",
       "  126.969,1038.39 2352.76,1038.39 \n",
       "  \"/>\n",
       "<polyline clip-path=\"url(#clip132)\" style=\"stroke:#000000; stroke-width:2; stroke-opacity:0.1; fill:none\" points=\"\n",
       "  126.969,766.846 2352.76,766.846 \n",
       "  \"/>\n",
       "<polyline clip-path=\"url(#clip132)\" style=\"stroke:#000000; stroke-width:2; stroke-opacity:0.1; fill:none\" points=\"\n",
       "  126.969,495.298 2352.76,495.298 \n",
       "  \"/>\n",
       "<polyline clip-path=\"url(#clip132)\" style=\"stroke:#000000; stroke-width:2; stroke-opacity:0.1; fill:none\" points=\"\n",
       "  126.969,223.75 2352.76,223.75 \n",
       "  \"/>\n",
       "<polyline clip-path=\"url(#clip130)\" style=\"stroke:#000000; stroke-width:4; stroke-opacity:1; fill:none\" points=\"\n",
       "  126.969,1486.45 2352.76,1486.45 \n",
       "  \"/>\n",
       "<polyline clip-path=\"url(#clip130)\" style=\"stroke:#000000; stroke-width:4; stroke-opacity:1; fill:none\" points=\"\n",
       "  126.969,1486.45 126.969,47.2441 \n",
       "  \"/>\n",
       "<polyline clip-path=\"url(#clip130)\" style=\"stroke:#000000; stroke-width:4; stroke-opacity:1; fill:none\" points=\"\n",
       "  399.943,1486.45 399.943,1469.18 \n",
       "  \"/>\n",
       "<polyline clip-path=\"url(#clip130)\" style=\"stroke:#000000; stroke-width:4; stroke-opacity:1; fill:none\" points=\"\n",
       "  819.902,1486.45 819.902,1469.18 \n",
       "  \"/>\n",
       "<polyline clip-path=\"url(#clip130)\" style=\"stroke:#000000; stroke-width:4; stroke-opacity:1; fill:none\" points=\"\n",
       "  1239.86,1486.45 1239.86,1469.18 \n",
       "  \"/>\n",
       "<polyline clip-path=\"url(#clip130)\" style=\"stroke:#000000; stroke-width:4; stroke-opacity:1; fill:none\" points=\"\n",
       "  1659.82,1486.45 1659.82,1469.18 \n",
       "  \"/>\n",
       "<polyline clip-path=\"url(#clip130)\" style=\"stroke:#000000; stroke-width:4; stroke-opacity:1; fill:none\" points=\"\n",
       "  2079.78,1486.45 2079.78,1469.18 \n",
       "  \"/>\n",
       "<polyline clip-path=\"url(#clip130)\" style=\"stroke:#000000; stroke-width:4; stroke-opacity:1; fill:none\" points=\"\n",
       "  126.969,1309.94 153.678,1309.94 \n",
       "  \"/>\n",
       "<polyline clip-path=\"url(#clip130)\" style=\"stroke:#000000; stroke-width:4; stroke-opacity:1; fill:none\" points=\"\n",
       "  126.969,1038.39 153.678,1038.39 \n",
       "  \"/>\n",
       "<polyline clip-path=\"url(#clip130)\" style=\"stroke:#000000; stroke-width:4; stroke-opacity:1; fill:none\" points=\"\n",
       "  126.969,766.846 153.678,766.846 \n",
       "  \"/>\n",
       "<polyline clip-path=\"url(#clip130)\" style=\"stroke:#000000; stroke-width:4; stroke-opacity:1; fill:none\" points=\"\n",
       "  126.969,495.298 153.678,495.298 \n",
       "  \"/>\n",
       "<polyline clip-path=\"url(#clip130)\" style=\"stroke:#000000; stroke-width:4; stroke-opacity:1; fill:none\" points=\"\n",
       "  126.969,223.75 153.678,223.75 \n",
       "  \"/>\n",
       "<path clip-path=\"url(#clip130)\" d=\"M 0 0 M379.954 1525.04 L392.431 1525.04 L392.431 1528.83 L379.954 1528.83 L379.954 1525.04 Z\" fill=\"#000000\" fill-rule=\"evenodd\" fill-opacity=\"1\" /><path clip-path=\"url(#clip130)\" d=\"M 0 0 M410.348 1509.43 L398.542 1527.88 L410.348 1527.88 L410.348 1509.43 M409.121 1505.36 L415 1505.36 L415 1527.88 L419.931 1527.88 L419.931 1531.77 L415 1531.77 L415 1539.92 L410.348 1539.92 L410.348 1531.77 L394.746 1531.77 L394.746 1527.26 L409.121 1505.36 Z\" fill=\"#000000\" fill-rule=\"evenodd\" fill-opacity=\"1\" /><path clip-path=\"url(#clip130)\" d=\"M 0 0 M800.956 1525.04 L813.433 1525.04 L813.433 1528.83 L800.956 1528.83 L800.956 1525.04 Z\" fill=\"#000000\" fill-rule=\"evenodd\" fill-opacity=\"1\" /><path clip-path=\"url(#clip130)\" d=\"M 0 0 M822.53 1535.98 L838.849 1535.98 L838.849 1539.92 L816.905 1539.92 L816.905 1535.98 Q819.567 1533.23 824.15 1528.6 Q828.757 1523.95 829.937 1522.61 Q832.183 1520.08 833.062 1518.35 Q833.965 1516.59 833.965 1514.9 Q833.965 1512.14 832.02 1510.41 Q830.099 1508.67 826.997 1508.67 Q824.798 1508.67 822.345 1509.43 Q819.914 1510.2 817.136 1511.75 L817.136 1507.03 Q819.96 1505.89 822.414 1505.31 Q824.868 1504.73 826.905 1504.73 Q832.275 1504.73 835.47 1507.42 Q838.664 1510.11 838.664 1514.6 Q838.664 1516.73 837.854 1518.65 Q837.067 1520.54 834.96 1523.14 Q834.382 1523.81 831.28 1527.03 Q828.178 1530.22 822.53 1535.98 Z\" fill=\"#000000\" fill-rule=\"evenodd\" fill-opacity=\"1\" /><path clip-path=\"url(#clip130)\" d=\"M 0 0 M1239.86 1508.44 Q1236.25 1508.44 1234.42 1512 Q1232.62 1515.55 1232.62 1522.67 Q1232.62 1529.78 1234.42 1533.35 Q1236.25 1536.89 1239.86 1536.89 Q1243.5 1536.89 1245.3 1533.35 Q1247.13 1529.78 1247.13 1522.67 Q1247.13 1515.55 1245.3 1512 Q1243.5 1508.44 1239.86 1508.44 M1239.86 1504.73 Q1245.67 1504.73 1248.73 1509.34 Q1251.81 1513.92 1251.81 1522.67 Q1251.81 1531.4 1248.73 1536.01 Q1245.67 1540.59 1239.86 1540.59 Q1234.05 1540.59 1230.97 1536.01 Q1227.92 1531.4 1227.92 1522.67 Q1227.92 1513.92 1230.97 1509.34 Q1234.05 1504.73 1239.86 1504.73 Z\" fill=\"#000000\" fill-rule=\"evenodd\" fill-opacity=\"1\" /><path clip-path=\"url(#clip130)\" d=\"M 0 0 M1654.47 1535.98 L1670.79 1535.98 L1670.79 1539.92 L1648.85 1539.92 L1648.85 1535.98 Q1651.51 1533.23 1656.1 1528.6 Q1660.7 1523.95 1661.88 1522.61 Q1664.13 1520.08 1665.01 1518.35 Q1665.91 1516.59 1665.91 1514.9 Q1665.91 1512.14 1663.97 1510.41 Q1662.04 1508.67 1658.94 1508.67 Q1656.74 1508.67 1654.29 1509.43 Q1651.86 1510.2 1649.08 1511.75 L1649.08 1507.03 Q1651.91 1505.89 1654.36 1505.31 Q1656.81 1504.73 1658.85 1504.73 Q1664.22 1504.73 1667.41 1507.42 Q1670.61 1510.11 1670.61 1514.6 Q1670.61 1516.73 1669.8 1518.65 Q1669.01 1520.54 1666.91 1523.14 Q1666.33 1523.81 1663.22 1527.03 Q1660.12 1530.22 1654.47 1535.98 Z\" fill=\"#000000\" fill-rule=\"evenodd\" fill-opacity=\"1\" /><path clip-path=\"url(#clip130)\" d=\"M 0 0 M2082.79 1509.43 L2070.99 1527.88 L2082.79 1527.88 L2082.79 1509.43 M2081.56 1505.36 L2087.44 1505.36 L2087.44 1527.88 L2092.37 1527.88 L2092.37 1531.77 L2087.44 1531.77 L2087.44 1539.92 L2082.79 1539.92 L2082.79 1531.77 L2067.19 1531.77 L2067.19 1527.26 L2081.56 1505.36 Z\" fill=\"#000000\" fill-rule=\"evenodd\" fill-opacity=\"1\" /><path clip-path=\"url(#clip130)\" d=\"M 0 0 M62.9921 1312.34 L75.4689 1312.34 L75.4689 1316.13 L62.9921 1316.13 L62.9921 1312.34 Z\" fill=\"#000000\" fill-rule=\"evenodd\" fill-opacity=\"1\" /><path clip-path=\"url(#clip130)\" d=\"M 0 0 M93.3855 1296.74 L81.58 1315.18 L93.3855 1315.18 L93.3855 1296.74 M92.1586 1292.66 L98.0382 1292.66 L98.0382 1315.18 L102.969 1315.18 L102.969 1319.07 L98.0382 1319.07 L98.0382 1327.22 L93.3855 1327.22 L93.3855 1319.07 L77.7837 1319.07 L77.7837 1314.56 L92.1586 1292.66 Z\" fill=\"#000000\" fill-rule=\"evenodd\" fill-opacity=\"1\" /><path clip-path=\"url(#clip130)\" d=\"M 0 0 M65.0754 1040.79 L77.5522 1040.79 L77.5522 1044.59 L65.0754 1044.59 L65.0754 1040.79 Z\" fill=\"#000000\" fill-rule=\"evenodd\" fill-opacity=\"1\" /><path clip-path=\"url(#clip130)\" d=\"M 0 0 M86.6494 1051.74 L102.969 1051.74 L102.969 1055.67 L81.0244 1055.67 L81.0244 1051.74 Q83.6865 1048.98 88.2698 1044.35 Q92.8762 1039.7 94.0568 1038.36 Q96.3021 1035.84 97.1818 1034.1 Q98.0845 1032.34 98.0845 1030.65 Q98.0845 1027.9 96.1401 1026.16 Q94.2188 1024.42 91.117 1024.42 Q88.9179 1024.42 86.4642 1025.19 Q84.0337 1025.95 81.2559 1027.5 L81.2559 1022.78 Q84.08 1021.65 86.5337 1021.07 Q88.9874 1020.49 91.0244 1020.49 Q96.3947 1020.49 99.5892 1023.17 Q102.784 1025.86 102.784 1030.35 Q102.784 1032.48 101.973 1034.4 Q101.186 1036.3 99.0799 1038.89 Q98.5012 1039.56 95.3994 1042.78 Q92.2975 1045.97 86.6494 1051.74 Z\" fill=\"#000000\" fill-rule=\"evenodd\" fill-opacity=\"1\" /><path clip-path=\"url(#clip130)\" d=\"M 0 0 M91.0244 752.645 Q87.4133 752.645 85.5846 756.209 Q83.7791 759.751 83.7791 766.881 Q83.7791 773.987 85.5846 777.552 Q87.4133 781.094 91.0244 781.094 Q94.6586 781.094 96.4642 777.552 Q98.2929 773.987 98.2929 766.881 Q98.2929 759.751 96.4642 756.209 Q94.6586 752.645 91.0244 752.645 M91.0244 748.941 Q96.8345 748.941 99.8901 753.547 Q102.969 758.131 102.969 766.881 Q102.969 775.608 99.8901 780.214 Q96.8345 784.797 91.0244 784.797 Q85.2142 784.797 82.1355 780.214 Q79.08 775.608 79.08 766.881 Q79.08 758.131 82.1355 753.547 Q85.2142 748.941 91.0244 748.941 Z\" fill=\"#000000\" fill-rule=\"evenodd\" fill-opacity=\"1\" /><path clip-path=\"url(#clip130)\" d=\"M 0 0 M86.6494 508.643 L102.969 508.643 L102.969 512.578 L81.0244 512.578 L81.0244 508.643 Q83.6865 505.888 88.2698 501.259 Q92.8762 496.606 94.0568 495.263 Q96.3021 492.74 97.1818 491.004 Q98.0845 489.245 98.0845 487.555 Q98.0845 484.8 96.1401 483.064 Q94.2188 481.328 91.117 481.328 Q88.9179 481.328 86.4642 482.092 Q84.0337 482.856 81.2559 484.407 L81.2559 479.685 Q84.08 478.551 86.5337 477.972 Q88.9874 477.393 91.0244 477.393 Q96.3947 477.393 99.5892 480.078 Q102.784 482.763 102.784 487.254 Q102.784 489.384 101.973 491.305 Q101.186 493.203 99.0799 495.796 Q98.5012 496.467 95.3994 499.685 Q92.2975 502.879 86.6494 508.643 Z\" fill=\"#000000\" fill-rule=\"evenodd\" fill-opacity=\"1\" /><path clip-path=\"url(#clip130)\" d=\"M 0 0 M93.3855 210.544 L81.58 228.993 L93.3855 228.993 L93.3855 210.544 M92.1586 206.47 L98.0382 206.47 L98.0382 228.993 L102.969 228.993 L102.969 232.882 L98.0382 232.882 L98.0382 241.03 L93.3855 241.03 L93.3855 232.882 L77.7837 232.882 L77.7837 228.368 L92.1586 206.47 Z\" fill=\"#000000\" fill-rule=\"evenodd\" fill-opacity=\"1\" /><polyline clip-path=\"url(#clip132)\" style=\"stroke:#009af9; stroke-width:4; stroke-opacity:1; fill:none\" points=\"\n",
       "  910.027,902.62 913.248,902.604 916.469,902.556 946.253,900.604 976.037,895.966 993.935,891.923 1011.83,886.972 1026.97,882.103 1042.1,876.636 1074.98,862.837 \n",
       "  1105.29,848.026 1137.79,830.28 1175.44,807.854 1208.89,786.798 1238.23,767.899 1270.22,747.283 1302.4,727.003 1337.98,705.686 1371.83,687.022 1407.03,669.816 \n",
       "  1436.66,657.424 1454.75,650.914 1472.83,645.264 1489.83,640.775 1506.84,637.111 1534.08,633.021 1561.31,631.18 1565.51,631.099 1569.7,631.072 \n",
       "  \"/>\n",
       "<polyline clip-path=\"url(#clip132)\" style=\"stroke:#e26f46; stroke-width:4; stroke-opacity:1; fill:none\" points=\"\n",
       "  189.963,1445.72 210.469,1432.46 400.079,1309.85 514.027,1236.17 610.368,1173.88 715.022,1106.21 811.503,1043.82 914.941,976.941 1034.78,899.45 1141.29,830.585 \n",
       "  1234.68,770.196 1336.5,704.357 1438.93,638.126 1552.18,564.899 1659.93,495.226 1771.97,422.781 1866.28,361.799 1981.43,287.346 2089.67,217.358 2263.08,105.232 \n",
       "  2289.76,87.9763 \n",
       "  \"/>\n",
       "<path clip-path=\"url(#clip130)\" d=\"\n",
       "M1980.24 276.658 L2278.56 276.658 L2278.56 95.2176 L1980.24 95.2176  Z\n",
       "  \" fill=\"#ffffff\" fill-rule=\"evenodd\" fill-opacity=\"1\"/>\n",
       "<polyline clip-path=\"url(#clip130)\" style=\"stroke:#000000; stroke-width:4; stroke-opacity:1; fill:none\" points=\"\n",
       "  1980.24,276.658 2278.56,276.658 2278.56,95.2176 1980.24,95.2176 1980.24,276.658 \n",
       "  \"/>\n",
       "<polyline clip-path=\"url(#clip130)\" style=\"stroke:#009af9; stroke-width:4; stroke-opacity:1; fill:none\" points=\"\n",
       "  2004.97,155.698 2153.35,155.698 \n",
       "  \"/>\n",
       "<path clip-path=\"url(#clip130)\" d=\"M 0 0 M2191.93 175.385 Q2190.12 180.015 2188.41 181.427 Q2186.69 182.839 2183.82 182.839 L2180.42 182.839 L2180.42 179.274 L2182.92 179.274 Q2184.68 179.274 2185.65 178.44 Q2186.62 177.607 2187.8 174.505 L2188.57 172.561 L2178.08 147.052 L2182.6 147.052 L2190.7 167.329 L2198.8 147.052 L2203.31 147.052 L2191.93 175.385 Z\" fill=\"#000000\" fill-rule=\"evenodd\" fill-opacity=\"1\" /><path clip-path=\"url(#clip130)\" d=\"M 0 0 M2209.19 169.042 L2216.83 169.042 L2216.83 142.677 L2208.52 144.343 L2208.52 140.084 L2216.79 138.418 L2221.46 138.418 L2221.46 169.042 L2229.1 169.042 L2229.1 172.978 L2209.19 172.978 L2209.19 169.042 Z\" fill=\"#000000\" fill-rule=\"evenodd\" fill-opacity=\"1\" /><polyline clip-path=\"url(#clip130)\" style=\"stroke:#e26f46; stroke-width:4; stroke-opacity:1; fill:none\" points=\"\n",
       "  2004.97,216.178 2153.35,216.178 \n",
       "  \"/>\n",
       "<path clip-path=\"url(#clip130)\" d=\"M 0 0 M2191.93 235.865 Q2190.12 240.495 2188.41 241.907 Q2186.69 243.319 2183.82 243.319 L2180.42 243.319 L2180.42 239.754 L2182.92 239.754 Q2184.68 239.754 2185.65 238.92 Q2186.62 238.087 2187.8 234.985 L2188.57 233.041 L2178.08 207.532 L2182.6 207.532 L2190.7 227.809 L2198.8 207.532 L2203.31 207.532 L2191.93 235.865 Z\" fill=\"#000000\" fill-rule=\"evenodd\" fill-opacity=\"1\" /><path clip-path=\"url(#clip130)\" d=\"M 0 0 M2212.41 229.522 L2228.73 229.522 L2228.73 233.458 L2206.79 233.458 L2206.79 229.522 Q2209.45 226.768 2214.03 222.138 Q2218.64 217.485 2219.82 216.143 Q2222.06 213.62 2222.94 211.884 Q2223.85 210.124 2223.85 208.435 Q2223.85 205.68 2221.9 203.944 Q2219.98 202.208 2216.88 202.208 Q2214.68 202.208 2212.23 202.972 Q2209.8 203.735 2207.02 205.286 L2207.02 200.564 Q2209.84 199.43 2212.3 198.851 Q2214.75 198.273 2216.79 198.273 Q2222.16 198.273 2225.35 200.958 Q2228.55 203.643 2228.55 208.134 Q2228.55 210.263 2227.74 212.185 Q2226.95 214.083 2224.84 216.675 Q2224.26 217.347 2221.16 220.564 Q2218.06 223.759 2212.41 229.522 Z\" fill=\"#000000\" fill-rule=\"evenodd\" fill-opacity=\"1\" /></svg>\n"
      ]
     },
     "execution_count": 11,
     "metadata": {},
     "output_type": "execute_result"
    }
   ],
   "source": [
    "using Plots\n",
    "\n",
    "f(x) = sin(x)\n",
    "c = 0\n",
    "tl(x) = f(c) + 1 * (x - c)\n",
    "plot(f, -pi/2, pi/2)\n",
    "plot!(tl)"
   ]
  },
  {
   "cell_type": "markdown",
   "metadata": {},
   "source": [
    "## 导数"
   ]
  },
  {
   "cell_type": "code",
   "execution_count": 71,
   "metadata": {},
   "outputs": [
    {
     "data": {
      "text/latex": [
       "\\begin{equation*}\\cos{\\left(x \\right)}\\end{equation*}"
      ],
      "text/plain": [
       "cos(x)"
      ]
     },
     "execution_count": 71,
     "metadata": {},
     "output_type": "execute_result"
    }
   ],
   "source": [
    "a, x = symbols(\"a, x\")\n",
    "\n",
    "f(x) = sin(x)\n",
    "diff(f(x),x)"
   ]
  },
  {
   "cell_type": "code",
   "execution_count": 17,
   "metadata": {},
   "outputs": [
    {
     "data": {
      "text/latex": [
       "\\begin{equation*}-1\\end{equation*}"
      ],
      "text/plain": [
       "-1"
      ]
     },
     "execution_count": 17,
     "metadata": {},
     "output_type": "execute_result"
    }
   ],
   "source": [
    "subs(diff(f(x),x), x=>pi)"
   ]
  },
  {
   "cell_type": "markdown",
   "metadata": {},
   "source": [
    "## 定积分和不定积分"
   ]
  },
  {
   "cell_type": "code",
   "execution_count": 73,
   "metadata": {},
   "outputs": [
    {
     "data": {
      "text/plain": [
       "1.9999999995887554"
      ]
     },
     "execution_count": 73,
     "metadata": {},
     "output_type": "execute_result"
    }
   ],
   "source": [
    "# 梯形法\n",
    "@vars x\n",
    "f(x) = sin(x)\n",
    "a, b = 0, pi\n",
    "\n",
    "n = 10^5\n",
    "m = (b - a)/n\n",
    "\n",
    "xi = a+m/2 : m : b-m/2\n",
    "S = sum(f(xi[i]) * m for i in 1:n-1)\n"
   ]
  },
  {
   "cell_type": "code",
   "execution_count": 74,
   "metadata": {},
   "outputs": [
    {
     "data": {
      "text/latex": [
       "\\begin{equation*}2\\end{equation*}"
      ],
      "text/plain": [
       "2"
      ]
     },
     "execution_count": 74,
     "metadata": {},
     "output_type": "execute_result"
    }
   ],
   "source": [
    "# 不定积分\n",
    "\n",
    "F = integrate(sin(x), x)\n",
    "real_S = F(b) - F(a)"
   ]
  },
  {
   "cell_type": "code",
   "execution_count": 38,
   "metadata": {},
   "outputs": [
    {
     "data": {
      "text/latex": [
       "\\begin{equation*}\\frac{4 \\pi r^{3}}{3}\\end{equation*}"
      ],
      "text/plain": [
       "     3\n",
       "4⋅π⋅r \n",
       "──────\n",
       "  3   "
      ]
     },
     "execution_count": 38,
     "metadata": {},
     "output_type": "execute_result"
    }
   ],
   "source": [
    "# 旋转体体积\n",
    "# 曲线 x^2 + y^2 = r^2 绕y轴旋转一周的体积\n",
    "@vars x y r real=true \n",
    "\n",
    "X = sqrt(r^2 - y^2)\n",
    "integrate(pi*X^2, (y, -r, r))"
   ]
  },
  {
   "cell_type": "code",
   "execution_count": null,
   "metadata": {},
   "outputs": [],
   "source": []
  }
 ],
 "metadata": {
  "kernelspec": {
   "display_name": "Julia 1.4.2",
   "language": "julia",
   "name": "julia-1.4"
  },
  "language_info": {
   "file_extension": ".jl",
   "mimetype": "application/julia",
   "name": "julia",
   "version": "1.4.2"
  }
 },
 "nbformat": 4,
 "nbformat_minor": 4
}
